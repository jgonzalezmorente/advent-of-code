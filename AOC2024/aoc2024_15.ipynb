{
 "cells": [
  {
   "cell_type": "code",
   "execution_count": 1,
   "metadata": {},
   "outputs": [],
   "source": [
    "from pathlib import Path\n",
    "from functools import reduce\n",
    "import numpy as np"
   ]
  },
  {
   "cell_type": "code",
   "execution_count": 2,
   "metadata": {},
   "outputs": [],
   "source": [
    "def load_puzzle_input(path):\n",
    "    puzzle_input_path = Path(path)\n",
    "    warehouse_map = []\n",
    "    moves = []\n",
    "    moves_mapping = { '>': np.array([0, 1]), '^': np.array([-1, 0]), '<': np.array([0, -1]), 'v': np.array([1, 0])}\n",
    "\n",
    "    with open(puzzle_input_path, 'r') as f:\n",
    "        is_move_line = False\n",
    "        for row, line in enumerate(f):\n",
    "            line = line.strip()\n",
    "            if row == 0:\n",
    "                continue\n",
    "            if line == ('#' * len(line)):\n",
    "                is_move_line = True\n",
    "                continue\n",
    "            if not is_move_line:\n",
    "                warehouse_map.append(list(line[1:-1]))\n",
    "            else:\n",
    "                moves.extend([moves_mapping[move] for move in line])\n",
    "    return np.array(warehouse_map), moves"
   ]
  },
  {
   "cell_type": "code",
   "execution_count": 3,
   "metadata": {},
   "outputs": [],
   "source": [
    "class WharehouseMap:\n",
    "    def __init__(self, warehouse_map):\n",
    "        self.warehouse_map = warehouse_map.copy()\n",
    "        self.shape_array = np.array(self.warehouse_map.shape)\n",
    "\n",
    "    def move(self, position: np.ndarray, move: np.ndarray):\n",
    "        new_position = position + move\n",
    "        if ((new_position < 0) | (new_position >= self.shape_array)).any():\n",
    "            return False\n",
    "        idx_position = tuple(position)\n",
    "        idx_new_position = tuple(new_position)\n",
    "        match self.warehouse_map[idx_new_position]:\n",
    "            case '.':\n",
    "                self.warehouse_map[idx_position], self.warehouse_map[idx_new_position] = self.warehouse_map[idx_new_position], self.warehouse_map[idx_position]\n",
    "                return True\n",
    "            case '#':\n",
    "                return False\n",
    "            case _:\n",
    "                if self.move(new_position, move):\n",
    "                    self.warehouse_map[idx_position], self.warehouse_map[idx_new_position] = self.warehouse_map[idx_new_position], self.warehouse_map[idx_position]\n",
    "                    return True\n",
    "                return False"
   ]
  },
  {
   "cell_type": "code",
   "execution_count": 4,
   "metadata": {},
   "outputs": [],
   "source": [
    "warehouse_map, moves = load_puzzle_input('inputs/day15.txt')\n",
    "robot = np.where(warehouse_map == '@')\n",
    "robot_position = np.array(list(zip(robot[0], robot[1]))[0])\n",
    "move_map = WharehouseMap(warehouse_map)\n",
    "for move in moves:\n",
    "    if move_map.move(robot_position, move):\n",
    "        robot_position += move"
   ]
  },
  {
   "cell_type": "code",
   "execution_count": 5,
   "metadata": {},
   "outputs": [
    {
     "data": {
      "text/plain": [
       "1448589"
      ]
     },
     "execution_count": 5,
     "metadata": {},
     "output_type": "execute_result"
    }
   ],
   "source": [
    "indices = np.where(move_map.warehouse_map == 'O')\n",
    "reduce(lambda acc, value: acc + 100 * (value[0] + 1) + (value[1] + 1), zip(indices[0], indices[1]), 0)\n"
   ]
  }
 ],
 "metadata": {
  "kernelspec": {
   "display_name": "3.10.12",
   "language": "python",
   "name": "python3"
  },
  "language_info": {
   "codemirror_mode": {
    "name": "ipython",
    "version": 3
   },
   "file_extension": ".py",
   "mimetype": "text/x-python",
   "name": "python",
   "nbconvert_exporter": "python",
   "pygments_lexer": "ipython3",
   "version": "3.10.12"
  }
 },
 "nbformat": 4,
 "nbformat_minor": 2
}
