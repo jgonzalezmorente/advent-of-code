{
 "cells": [
  {
   "cell_type": "code",
   "execution_count": 1,
   "metadata": {},
   "outputs": [],
   "source": [
    "import numpy as np\n",
    "from pathlib import Path\n",
    "from functools import reduce\n",
    "from numpy.lib.stride_tricks import sliding_window_view"
   ]
  },
  {
   "cell_type": "code",
   "execution_count": 2,
   "metadata": {},
   "outputs": [],
   "source": [
    "def load_puzzle_input(path):\n",
    "    puzzle_input_path = Path(path)\n",
    "    warehouse_map = []\n",
    "    moves = []\n",
    "    moves_mapping = { '>': np.array([0, 1]), '^': np.array([-1, 0]), '<': np.array([0, -1]), 'v': np.array([1, 0])}\n",
    "\n",
    "    with open(puzzle_input_path, 'r') as f:\n",
    "        is_move_line = False\n",
    "        for row, line in enumerate(f):\n",
    "            line = line.strip()\n",
    "            if row == 0:\n",
    "                continue\n",
    "            if line == ('#' * len(line)):\n",
    "                is_move_line = True\n",
    "                continue\n",
    "            if not is_move_line:\n",
    "                warehouse_map.append(list(line[1:-1]))\n",
    "            else:\n",
    "                moves.extend([moves_mapping[move] for move in line])\n",
    "    return np.array(warehouse_map), moves"
   ]
  },
  {
   "cell_type": "code",
   "execution_count": 149,
   "metadata": {},
   "outputs": [],
   "source": [
    "class WharehouseMap:\n",
    "    def __init__(self, warehouse_map):\n",
    "        self.warehouse_map = warehouse_map.copy()\n",
    "        self.shape_array = np.array(self.warehouse_map.shape)\n",
    "\n",
    "    def __str__(self):\n",
    "        return '\\n'.join(''.join(map(str, row)) for row in self.warehouse_map)\n",
    "\n",
    "    def _move_robot(self, idx_position, idx_new_position):\n",
    "        self.warehouse_map[idx_position], self.warehouse_map[idx_new_position] = '.', self.warehouse_map[idx_position]\n",
    "        return True\n",
    "\n",
    "\n",
    "    def move(self, position: np.ndarray, move: np.ndarray):\n",
    "        new_position = position + move\n",
    "        if ((new_position < 0) | (new_position >= self.shape_array)).any():\n",
    "            return False\n",
    "        idx_position, idx_new_position = tuple(position), tuple(new_position)\n",
    "\n",
    "        match self.warehouse_map[idx_new_position]:\n",
    "            case '.':\n",
    "                return self._move_robot(idx_position, idx_new_position)\n",
    "            case '#':\n",
    "                return False\n",
    "            case 'O':\n",
    "                return self._move_robot(idx_position, idx_new_position) if self.move(new_position, move) else False\n",
    "            case '[':\n",
    "                end_box = new_position + np.array([0, 1])\n",
    "                moves_map = self._can_push_box(new_position, end_box, move)\n",
    "                return self._move_robot(idx_position, idx_new_position) if self._push_box(moves_map) else False\n",
    "            case ']':\n",
    "                start_box = new_position + np.array([0, -1])\n",
    "                moves_map = self._can_push_box(start_box, new_position, move)\n",
    "                return self._move_robot(idx_position, idx_new_position) if self._push_box(moves_map) else False\n",
    "\n",
    "    def _can_push_box_x(self, start_box, end_box, move):\n",
    "        start_box_new, end_box_new = start_box + move, end_box + move\n",
    "        start, end = tuple(start_box), tuple(end_box)\n",
    "        start_new, end_new = tuple(start_box_new), tuple(end_box_new)\n",
    "        (point, box_side) = (end_new, '[') if move[1] > 0 else (start_new, ']')\n",
    "\n",
    "        if self.warehouse_map[point] == '.':\n",
    "            return [WharehouseMap.step(start, end, start_new, end_new)]\n",
    "\n",
    "        if self.warehouse_map[point] == box_side:\n",
    "            steps = self._can_push_box(start_box_new + move, end_box_new + move, move)\n",
    "            if not steps:\n",
    "                return []\n",
    "            steps.append(WharehouseMap.step(start, end, start_new, end_new))\n",
    "            return steps\n",
    "\n",
    "        return []\n",
    "\n",
    "    def _steps_to_push_box(self, start_box, end_box, move=np.array([0, 0]), offset = np.array([0, 0])):\n",
    "        start_box_new, end_box_new = start_box + move, end_box + move\n",
    "        steps = self._can_push_box(start_box_new + offset, end_box_new + offset, move)\n",
    "        if not steps:\n",
    "            return []\n",
    "        steps.append(WharehouseMap.step(start_box, end_box, start_box_new, end_box_new))\n",
    "        return steps\n",
    "\n",
    "    @staticmethod\n",
    "    def step(start, end, start_new, end_new):\n",
    "        return ({\n",
    "            'from': ([start[0], end[0]] , [start[1], end[1]]),\n",
    "            'to': ([start_new[0], end_new[0]] , [start_new[1], end_new[1]])\n",
    "        })\n",
    "\n",
    "    def _can_push_box(self, start_box, end_box, move):\n",
    "        start_box_new, end_box_new = start_box + move, end_box + move\n",
    "        for pos in (start_box_new, end_box_new):\n",
    "            if (pos < 0).any() or (pos >= self.shape_array).any():\n",
    "                return []\n",
    "\n",
    "        start, end = tuple(start_box), tuple(end_box)\n",
    "        start_new, end_new = tuple(start_box_new), tuple(end_box_new)\n",
    "\n",
    "        match tuple(move):\n",
    "            case (0, _):\n",
    "                return self._can_push_box_x(start_box, end_box, move)\n",
    "\n",
    "            case _:\n",
    "                match (self.warehouse_map[start_new], self.warehouse_map[end_new]):\n",
    "                    case ('#', _) | (_, '#'):\n",
    "                        return []\n",
    "\n",
    "                    case ('.', '.'):\n",
    "                        return [WharehouseMap.step(start, end, start_new, end_new)]\n",
    "\n",
    "                    case ('.', '['):\n",
    "                        return self._steps_to_push_box(start_box, end_box, move, np.array([0, 1]))\n",
    "\n",
    "                    case ('[', ']'):\n",
    "                        return self._steps_to_push_box(start_box, end_box, move)\n",
    "\n",
    "                    case (']', '.'):\n",
    "                        return self._steps_to_push_box(start_box, end_box, move, np.array([0, -1]))\n",
    "\n",
    "                    case (']', '['):\n",
    "                        steps = []\n",
    "                        for column_offset in [np.array([0, 1]), np.array([0, -1])]:\n",
    "                            _steps = self._can_push_box(start_box_new + column_offset, end_box_new + column_offset, move)\n",
    "                            if not _steps:\n",
    "                                return []\n",
    "                            steps.extend(_steps)\n",
    "                        steps.append(WharehouseMap.step(start, end, start_new, end_new))\n",
    "                        return steps\n",
    "                    case _:\n",
    "                        return []\n",
    "\n",
    "    def _push_box(self, moves):\n",
    "        if not moves:\n",
    "            return False\n",
    "        for move in moves:\n",
    "            # if '[' not in self.warehouse_map[move['from']] or ']' not in self.warehouse_map[move['from']]:\n",
    "            if (self.warehouse_map[move['from']] != np.array(['[',']'])).any():\n",
    "                continue\n",
    "            self.warehouse_map[move['to']] = self.warehouse_map[move['from']]\n",
    "            if move['to'][0] != move['from'][0]:\n",
    "                self.warehouse_map[move['from']] = '.'\n",
    "            else:\n",
    "                columns = [column for column in move['from'][1] if not column in move['to'][1]]\n",
    "                self.warehouse_map[move['to'][0][0], columns] = '.'\n",
    "        return True"
   ]
  },
  {
   "cell_type": "code",
   "execution_count": 150,
   "metadata": {},
   "outputs": [],
   "source": [
    "warehouse_map, moves = load_puzzle_input('inputs/day15.txt')\n",
    "robot = np.where(warehouse_map == '@')\n",
    "robot_position = np.array(list(zip(robot[0], robot[1]))[0])\n",
    "move_map = WharehouseMap(warehouse_map)\n",
    "for move in moves:\n",
    "    if move_map.move(robot_position, move):\n",
    "        robot_position += move"
   ]
  },
  {
   "cell_type": "code",
   "execution_count": 5,
   "metadata": {},
   "outputs": [
    {
     "data": {
      "text/plain": [
       "1448589"
      ]
     },
     "execution_count": 5,
     "metadata": {},
     "output_type": "execute_result"
    }
   ],
   "source": [
    "indices = np.where(move_map.warehouse_map == 'O')\n",
    "reduce(lambda acc, value: acc + 100 * (value[0] + 1) + (value[1] + 1), zip(indices[0], indices[1]), 0)"
   ]
  },
  {
   "cell_type": "code",
   "execution_count": 156,
   "metadata": {},
   "outputs": [
    {
     "name": "stdout",
     "output_type": "stream",
     "text": [
      "[0 1]\n"
     ]
    },
    {
     "data": {
      "text/plain": [
       "1472235"
      ]
     },
     "execution_count": 156,
     "metadata": {},
     "output_type": "execute_result"
    }
   ],
   "source": [
    "warehouse_map, moves = load_puzzle_input('inputs/day15.txt')\n",
    "warehouse_map_extend = np.repeat(warehouse_map, repeats=2, axis=1)\n",
    "cols = np.arange(warehouse_map_extend.shape[1])\n",
    "even_cols = cols % 2 == 0\n",
    "warehouse_map_extend[(warehouse_map_extend == 'O') & (even_cols[np.newaxis])] = '['\n",
    "warehouse_map_extend[(warehouse_map_extend == 'O') & (~even_cols[np.newaxis])] = ']'\n",
    "# windows = sliding_window_view(warehouse_map_extend, (1, 2))\n",
    "# idx = np.argwhere(np.all(windows == np.array(['@', '@']), axis=(2, 3)))\n",
    "duplicate_robot_idx = tuple((np.argwhere(warehouse_map == '@') * np.array([[1, 2]]))[0] + np.array([0, 1]))\n",
    "warehouse_map_extend[duplicate_robot_idx] = '.'\n",
    "move_map_extend = WharehouseMap(warehouse_map_extend)\n",
    "robot = np.where(warehouse_map_extend == '@')\n",
    "robot_position = np.array(list(zip(robot[0], robot[1]))[0])\n",
    "\n",
    "# print(move_map_extend, '==============================', sep='\\n')\n",
    "\n",
    "for move in moves:\n",
    "    if move_map_extend.move(robot_position, move):\n",
    "        robot_position += move\n",
    "\n",
    "    # print(move)\n",
    "    # print(move, move_map_extend, '==============================', sep='\\n')\n",
    "\n",
    "print(move)\n",
    "indices = np.where(move_map_extend.warehouse_map == '[')\n",
    "reduce(lambda acc, value: acc + 100 * (value[0] + 1) + (value[1] + 2), zip(indices[0], indices[1]), 0)"
   ]
  },
  {
   "cell_type": "code",
   "execution_count": 157,
   "metadata": {},
   "outputs": [
    {
     "name": "stdout",
     "output_type": "stream",
     "text": [
      "[]####[][][]..[]..........[][][][][][]##[][][][][]##..[]..........[]....[]..........[]........[]\n",
      "[][][]....[]................[][]##[]..[].[].[][]..[]##[][]##..[]####......................[][]..\n",
      "[]........[]####[]...........[][][][]...[].[]..[][][]...##....[]..[]..[]..##..........##..[]##..\n",
      "....##..[]..[][]##............[]...........[][][].......[][][]##..[]................[]..[]##[]..\n",
      "....##..##......[]##......................[]......................[]..[]........................\n",
      "................[][]...[]...[]##.......................[][].[]..[]......[]....[]........[][][][]\n",
      "..##............[]....##....##....................##..[][]........##....##..[][]....[]..[]......\n",
      "[][][]..[]............................##..##.......[].........[]............[][]....[]##[]..##[]\n",
      "..[]..####[][]......................[]##...........[].........[]..[]....[][]........[]##......##\n",
      "##[].................................[]............[].....####[]..[]....[]..........##..[][]....\n",
      ".............[]..[].......[]......[]##.[]........[].......[]....##[][][]......[]........[]......\n",
      "............[][].......[]...[][]..##[].....[]...................##[]..[]##..##..[]........[]..[]\n",
      "............[].....[].......[][].....[][]........[][].....[]......[]..[][]......[][]....[][]..[]\n",
      "........[]..[].[].[]##......[][]..................[]..[]........[]......[]............[]....[]..\n",
      "##....##..[]..##[][].[]..[][].[].........[]...[]......[]......[]##........[][]......[]##........\n",
      "......##..[].....[][][][]...[]...[]...[][]...[].[]............##..[]........##[]..[]....[][]..[]\n",
      "...........[]...[][][]............##..##[]...[]..............[]...........[]..[]..............[]\n",
      "......##[]....##..[]##[]..........##.....[]..[][]....[].[].......[].........[][]............[]..\n",
      "....##..##....[]##[]..........[][][]....[]...[][]..[]...[].................[].[]......[]......[]\n",
      "................[]..[]....[][].[][].....[]..........##..##.......[]...##........................\n",
      "......................##........[]..[]..##[].......[].[][]..##.....[][]....[].....[][]....##....\n",
      "[][][].......[].....[]...[]........[][]...##.........[][]...........[][]##....##[][]....[]......\n",
      "..[]........####..[]....[]##.......[]................[]..........[][][].............[]..........\n",
      "##[][][]....[]..[][]....[]........##......##............[].....@....[]........[]....[]##....[]..\n",
      "[][][]..........[].....[]........[][].......[]....[][].........[]....[].##[]..........[][]......\n",
      ".[][][]...........[]..[]...........[].##...[].......[]....##.[].##..[].[].........[].[].[][]..[]\n",
      "..[][][][]....[][]....[][][]..............##..........[]..[]..[][]............##....[]....[]....\n",
      ".[].##..##[]..........[][][].[]...[][]...............[].##....[][]............[][]..[]..[]##..[]\n",
      "[]........[]....[]..##[]##[].[].....##.......[]......[].......[]..[]........[][]......[]......[]\n",
      "[]..##....[]####[]....[]....[]......[][]..##[].[]....[]....[][]............[][]..[]...##....[][]\n",
      "[]..##.......[].......[]....##[]##..[]##..[]##....##.[]...[]##............##[].......[][][][].[]\n",
      "....[]........##......[]....[]##[]......[]........[]..####......[]............[]..[]..[]####....\n",
      "......................[].......[]....[].[]......##..[].........[].............##........[]......\n",
      "............##[].......[]...............[]......[]##..........##..................##............\n",
      "...................[]...........##......##..........[]..####[]..............##..[]....[]........\n",
      "............##..##....##.....[].......[][]................[]####..##.[]...[].[].................\n",
      "..........[].[].....[][]....##..##....[][]....##....................[]##..##..##..............##\n",
      "..........[][].....[].[]##..........[][].[][].............[]##..[]##....[][][]....[]......##....\n",
      ".[]...[]....[]..##[]..[]....##....[].[][]..[]......[][].....##........[]....[]..................\n",
      ".[]......[]...[]##[]......[]......[]..[]##[].[]...##[][]..[][]##........[][][][]................\n",
      ".[].....##....[]..##......[]...[]..[]......[]...##[]..####..##[]......[]..##[][]................\n",
      "[].[]........[][][].......##.......[].......................##[][]..[]........##.....[].........\n",
      "[][][]...................[][].........................[]..[]..........[]......[].....[][].[]....\n",
      "[]##[][]##[]##..........[]##.[]..................................................[][].....[]##[]\n",
      "[]..[]..[][]...............[].[]##..................[][][]........##[]####....##[][]##....[][]##\n",
      "....[][]##[][]....##..........##[][]..........[][]##..##[]....[]........[]......[]##[]....[]....\n",
      "..[]......[]##.[][]...[]..........##...[][]...[][][]##..##[][]..##....[]..[]......[][]##[]..[]..\n",
      "..........[][]##........[][]......[][][][]...[][][].[][][]............[]........[]##..........[]\n"
     ]
    }
   ],
   "source": [
    "print(move_map_extend)"
   ]
  },
  {
   "cell_type": "code",
   "execution_count": null,
   "metadata": {},
   "outputs": [
    {
     "data": {
      "text/plain": [
       "False"
      ]
     },
     "execution_count": 96,
     "metadata": {},
     "output_type": "execute_result"
    }
   ],
   "source": [
    "move_map_extend.warehouse_map"
   ]
  }
 ],
 "metadata": {
  "kernelspec": {
   "display_name": "3.10.12",
   "language": "python",
   "name": "python3"
  },
  "language_info": {
   "codemirror_mode": {
    "name": "ipython",
    "version": 3
   },
   "file_extension": ".py",
   "mimetype": "text/x-python",
   "name": "python",
   "nbconvert_exporter": "python",
   "pygments_lexer": "ipython3",
   "version": "3.10.12"
  }
 },
 "nbformat": 4,
 "nbformat_minor": 2
}
